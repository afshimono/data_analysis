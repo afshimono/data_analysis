{
 "cells": [
  {
   "cell_type": "markdown",
   "metadata": {},
   "source": [
    "ENEM Study - How is education performing in Brazil?\n",
    "===========================================\n",
    "\n",
    "Overview\n",
    "-------------\n",
    "This is a report that compares ENEM (Exame Nacional do Ensino Médio - High School National Exam) with other metrics in order to analyse:\n",
    "\n",
    "* statistical accuracy\n",
    "* improvement over years\n",
    "* comparison among different regions of the country\n",
    "\n",
    "The project consists of different steps of data manipulation and is a good Data Science exercise.\n",
    "\n",
    "Data Source\n",
    "-----------------\n",
    "\n",
    "We will be gathering our data from http://inep.gov.br/microdados , where they are available for download on the form of a zipped csv file. As you might have already noticed, each file has around 3GB of size, so we will have to use a Database to perform our queries and extract data of interest. To keep it simple, we will be using PostGRESQL."
   ]
  },
  {
   "cell_type": "code",
   "execution_count": 2,
   "metadata": {},
   "outputs": [],
   "source": [
    "import db\n",
    "import sqlalchemy\n",
    "\n",
    "session = db.get_db_session(create_schema=True)"
   ]
  },
  {
   "cell_type": "code",
   "execution_count": 3,
   "metadata": {},
   "outputs": [],
   "source": [
    "import os\n",
    "import os.path\n",
    "import csv\n",
    "\n",
    "csv_path = 'Data/microdados_enem2017/DADOS/MICRODADOS_ENEM_2017.csv'\n",
    "with open(csv_path,'r') as f:\n",
    "    reader = csv.reader(f)\n",
    "    header = next(reader)[0].split(';')\n",
    "    for i in range(0,100):\n",
    "        values = next(reader)[0].split(';')\n",
    "        items = dict(zip(header,values))\n",
    "        \n",
    "        for key in items.keys():\n",
    "            if items[key]=='':\n",
    "                items[key]=None\n",
    "        \n",
    "        exame = db.Exame()\n",
    "        exame.candidato_id = int(items['NU_INSCRICAO']) \n",
    "        exame.ano = int(items['NU_ANO']) if items['NU_ANO'] else None\n",
    "        exame.idade = int(items['NU_IDADE']) if items['NU_IDADE'] else None\n",
    "        exame.racial_id = int(items['TP_COR_RACA']) if items['TP_COR_RACA'] else None\n",
    "        exame.sexo = items['TP_SEXO']\n",
    "        \n",
    "        \n",
    "        if items['CO_MUNICIPIO_PROVA']:\n",
    "            if not session.query(db.Local).filter_by(id=int(items['CO_MUNICIPIO_PROVA'])).all():\n",
    "                local = db.Local()\n",
    "                local.id = int(items['CO_MUNICIPIO_PROVA'])\n",
    "                local.municipio = items['NO_MUNICIPIO_PROVA']\n",
    "                local.estado = items['SG_UF_PROVA']\n",
    "                session.add(local)\n",
    "                session.commit()\n",
    "            exame.exame_local_id = int(items['CO_MUNICIPIO_PROVA']) \n",
    "            \n",
    "            \n",
    "        if items['CO_MUNICIPIO_NASCIMENTO']:\n",
    "            if not session.query(db.Local).filter_by(id=int(items['CO_MUNICIPIO_NASCIMENTO'])).all():\n",
    "                local = db.Local()\n",
    "                local.id = int(items['CO_MUNICIPIO_NASCIMENTO'])\n",
    "                local.municipio = items['NO_MUNICIPIO_NASCIMENTO']\n",
    "                local.estado = items['SG_UF_NASCIMENTO']\n",
    "                session.add(local)\n",
    "                session.commit()\n",
    "            exame.local_nasc_id = int(items['CO_MUNICIPIO_NASCIMENTO'])\n",
    "        \n",
    "        if items['CO_MUNICIPIO_RESIDENCIA']:\n",
    "            if not session.query(db.Local).filter_by(id=int(items['CO_MUNICIPIO_RESIDENCIA'])).all():\n",
    "                local = db.Local()\n",
    "                local.id = int(items['CO_MUNICIPIO_RESIDENCIA'])\n",
    "                local.municipio = items['NO_MUNICIPIO_RESIDENCIA']\n",
    "                local.estado = items['SG_UF_RESIDENCIA']\n",
    "                session.add(local)\n",
    "                session.commit()\n",
    "        exame.residencia_id = int(items['CO_MUNICIPIO_RESIDENCIA'])\n",
    "        \n",
    "        session.add(exame)\n",
    "        \n",
    "    session.commit()    #commits to session\n",
    "    session.close()     #closes session\n"
   ]
  },
  {
   "cell_type": "code",
   "execution_count": null,
   "metadata": {},
   "outputs": [],
   "source": []
  }
 ],
 "metadata": {
  "kernelspec": {
   "display_name": "Python 3",
   "language": "python",
   "name": "python3"
  },
  "language_info": {
   "codemirror_mode": {
    "name": "ipython",
    "version": 3
   },
   "file_extension": ".py",
   "mimetype": "text/x-python",
   "name": "python",
   "nbconvert_exporter": "python",
   "pygments_lexer": "ipython3",
   "version": "3.6.6"
  }
 },
 "nbformat": 4,
 "nbformat_minor": 2
}
